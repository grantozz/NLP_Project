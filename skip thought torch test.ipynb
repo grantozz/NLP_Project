{
 "cells": [
  {
   "cell_type": "code",
   "execution_count": 5,
   "metadata": {},
   "outputs": [
    {
     "name": "stdout",
     "output_type": "stream",
     "text": [
      "Warning: 1/930911 words are not in dictionary, thus set UNK\n",
      "Warning: 1/930911 words are not in dictionary, thus set UNK\n",
      "torch.Size([2, 4800])\n"
     ]
    }
   ],
   "source": [
    "import torch\n",
    "from torch.autograd import Variable\n",
    "import sys\n",
    "sys.path.append('skip-thoughts.torch/pytorch')\n",
    "from skipthoughts import UniSkip,BiSkip\n",
    "\n",
    "dir_st = 'data/skip-thoughts'\n",
    "vocab = ['robots', 'are', 'very', 'cool', '<eos>', 'BiDiBu']\n",
    "biskip = BiSkip(dir_st, vocab)\n",
    "uniskip = UniSkip(dir_st, vocab)\n",
    "\n",
    "input = Variable(torch.LongTensor([\n",
    "    [1,2,3,4,5], # robots are very cool 0\n",
    "    [1,2,3,4,5]  # bidibu are very cool <eos>\n",
    "])) # <eos> token is optional\n",
    "\n",
    "def generate_embeding(batch):\n",
    "    top_half = uniskip(batch)\n",
    "    bottom_half = biskip(batch)\n",
    "    combine_skip = torch.cat([top_half,bottom_half],dim=1) \n",
    "    return combine_skip\n",
    "\n",
    "print(generate_embeding(input).size())"
   ]
  },
  {
   "cell_type": "code",
   "execution_count": 6,
   "metadata": {},
   "outputs": [
    {
     "name": "stdout",
     "output_type": "stream",
     "text": [
      "tensor([ 0.0629, -0.0799,  0.0919,  ...,  0.0046, -0.0190, -0.0169])\n"
     ]
    }
   ],
   "source": [
    "import numpy as np\n",
    "from scipy.spatial.distance import cosine\n",
    "emb1, emb2 = generate_embeding(input)\n",
    "print(emb1.detach())"
   ]
  },
  {
   "cell_type": "code",
   "execution_count": 7,
   "metadata": {},
   "outputs": [
    {
     "data": {
      "text/plain": [
       "0.0"
      ]
     },
     "execution_count": 7,
     "metadata": {},
     "output_type": "execute_result"
    }
   ],
   "source": [
    "cosine(emb1.detach(),emb2.detach())"
   ]
  },
  {
   "cell_type": "code",
   "execution_count": null,
   "metadata": {},
   "outputs": [],
   "source": []
  },
  {
   "cell_type": "code",
   "execution_count": null,
   "metadata": {},
   "outputs": [],
   "source": []
  }
 ],
 "metadata": {
  "kernelspec": {
   "display_name": "Python 3",
   "language": "python",
   "name": "python3"
  },
  "language_info": {
   "codemirror_mode": {
    "name": "ipython",
    "version": 3
   },
   "file_extension": ".py",
   "mimetype": "text/x-python",
   "name": "python",
   "nbconvert_exporter": "python",
   "pygments_lexer": "ipython3",
   "version": "3.6.4"
  }
 },
 "nbformat": 4,
 "nbformat_minor": 2
}
