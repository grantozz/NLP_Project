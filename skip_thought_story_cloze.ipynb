{
 "cells": [
  {
   "cell_type": "code",
   "execution_count": 1,
   "metadata": {},
   "outputs": [],
   "source": [
    "import torch\n",
    "from torch.autograd import Variable\n",
    "from torch.utils.data import Dataset, DataLoader\n",
    "import sys\n",
    "import pandas as pd\n",
    "from Vocabulary import Vocabulary, preprocess\n",
    "sys.path.append('skip-thoughts.torch/pytorch')\n",
    "from skipthoughts import UniSkip,BiSkip\n"
   ]
  },
  {
   "cell_type": "code",
   "execution_count": null,
   "metadata": {},
   "outputs": [],
   "source": []
  },
  {
   "cell_type": "code",
   "execution_count": 2,
   "metadata": {},
   "outputs": [],
   "source": [
    "def make_vocab(tokens):\n",
    "    voc = Vocabulary(['UNK'])\n",
    "    voc.add_tokens(tokens)\n",
    "    print('vocab len is {}'.format(len(voc.w2idx)))\n",
    "    return voc"
   ]
  },
  {
   "cell_type": "code",
   "execution_count": 3,
   "metadata": {},
   "outputs": [],
   "source": [
    "def load_data(file='story_cloze_data/cloze_test_test__spring2016 - cloze_test_ALL_test.csv'):\n",
    "    '''TODO remove 10% of data for hyper param tuning'''\n",
    "    df= pd.read_csv(file)\n",
    "    df = df.drop('InputStoryid',axis=1)\n",
    "    targets = df['AnswerRightEnding']\n",
    "    df = df.drop('AnswerRightEnding',axis=1)\n",
    "    df = df.drop('InputSentence1',axis=1)\n",
    "    df = df.drop('InputSentence2',axis=1)\n",
    "    df = df.drop('InputSentence3',axis=1)\n",
    "    \n",
    "    voc_str= ''\n",
    "    for index, row in df.iterrows():\n",
    "        voc_str+=' '.join(list(row)) + ' '\n",
    "        \n",
    "    df['AnswerRightEnding'] = targets\n",
    "    return df, make_vocab(preprocess(voc_str))"
   ]
  },
  {
   "cell_type": "code",
   "execution_count": 4,
   "metadata": {},
   "outputs": [
    {
     "name": "stdout",
     "output_type": "stream",
     "text": [
      "vocab len is 5225\n"
     ]
    }
   ],
   "source": [
    "   \n",
    "df, voc = load_data()\n"
   ]
  },
  {
   "cell_type": "code",
   "execution_count": 5,
   "metadata": {},
   "outputs": [
    {
     "data": {
      "text/html": [
       "<div>\n",
       "<style scoped>\n",
       "    .dataframe tbody tr th:only-of-type {\n",
       "        vertical-align: middle;\n",
       "    }\n",
       "\n",
       "    .dataframe tbody tr th {\n",
       "        vertical-align: top;\n",
       "    }\n",
       "\n",
       "    .dataframe thead th {\n",
       "        text-align: right;\n",
       "    }\n",
       "</style>\n",
       "<table border=\"1\" class=\"dataframe\">\n",
       "  <thead>\n",
       "    <tr style=\"text-align: right;\">\n",
       "      <th></th>\n",
       "      <th>InputSentence4</th>\n",
       "      <th>RandomFifthSentenceQuiz1</th>\n",
       "      <th>RandomFifthSentenceQuiz2</th>\n",
       "      <th>AnswerRightEnding</th>\n",
       "    </tr>\n",
       "  </thead>\n",
       "  <tbody>\n",
       "    <tr>\n",
       "      <th>0</th>\n",
       "      <td>I danced terribly and broke a friend's toe.</td>\n",
       "      <td>My friends decided to keep inviting me out as ...</td>\n",
       "      <td>The next weekend, I was asked to please stay h...</td>\n",
       "      <td>2</td>\n",
       "    </tr>\n",
       "    <tr>\n",
       "      <th>1</th>\n",
       "      <td>My eyes were watery and it was hard to breathe.</td>\n",
       "      <td>My allergies were too bad and I had to go back...</td>\n",
       "      <td>It reminded me of how much I loved spring flow...</td>\n",
       "      <td>1</td>\n",
       "    </tr>\n",
       "    <tr>\n",
       "      <th>2</th>\n",
       "      <td>She made poor decisions that night and was unf...</td>\n",
       "      <td>Avery thought her children would be happy with...</td>\n",
       "      <td>Avery regretted what she did the next day.</td>\n",
       "      <td>2</td>\n",
       "    </tr>\n",
       "    <tr>\n",
       "      <th>3</th>\n",
       "      <td>The eggs his mom used must have been bad though.</td>\n",
       "      <td>Josh thought that the pie was delicious.</td>\n",
       "      <td>Josh got sick.</td>\n",
       "      <td>2</td>\n",
       "    </tr>\n",
       "    <tr>\n",
       "      <th>4</th>\n",
       "      <td>He took a walk, hung out with some friends, an...</td>\n",
       "      <td>He felt inspiration and then went back home to...</td>\n",
       "      <td>John then got an idea for his painting.</td>\n",
       "      <td>1</td>\n",
       "    </tr>\n",
       "  </tbody>\n",
       "</table>\n",
       "</div>"
      ],
      "text/plain": [
       "                                      InputSentence4  \\\n",
       "0        I danced terribly and broke a friend's toe.   \n",
       "1    My eyes were watery and it was hard to breathe.   \n",
       "2  She made poor decisions that night and was unf...   \n",
       "3   The eggs his mom used must have been bad though.   \n",
       "4  He took a walk, hung out with some friends, an...   \n",
       "\n",
       "                            RandomFifthSentenceQuiz1  \\\n",
       "0  My friends decided to keep inviting me out as ...   \n",
       "1  My allergies were too bad and I had to go back...   \n",
       "2  Avery thought her children would be happy with...   \n",
       "3           Josh thought that the pie was delicious.   \n",
       "4  He felt inspiration and then went back home to...   \n",
       "\n",
       "                            RandomFifthSentenceQuiz2  AnswerRightEnding  \n",
       "0  The next weekend, I was asked to please stay h...                  2  \n",
       "1  It reminded me of how much I loved spring flow...                  1  \n",
       "2         Avery regretted what she did the next day.                  2  \n",
       "3                                     Josh got sick.                  2  \n",
       "4            John then got an idea for his painting.                  1  "
      ]
     },
     "execution_count": 5,
     "metadata": {},
     "output_type": "execute_result"
    }
   ],
   "source": [
    "df.head()"
   ]
  },
  {
   "cell_type": "code",
   "execution_count": 6,
   "metadata": {},
   "outputs": [
    {
     "data": {
      "text/plain": [
       "('My friends decided to keep inviting me out as I am so much fun.',)"
      ]
     },
     "execution_count": 6,
     "metadata": {},
     "output_type": "execute_result"
    }
   ],
   "source": [
    "df['RandomFifthSentenceQuiz1'][0],"
   ]
  },
  {
   "cell_type": "code",
   "execution_count": 7,
   "metadata": {},
   "outputs": [
    {
     "data": {
      "text/plain": [
       "[10, 11, 12, 13, 14, 15, 16, 17, 18, 1, 19, 20, 21, 22]"
      ]
     },
     "execution_count": 7,
     "metadata": {},
     "output_type": "execute_result"
    }
   ],
   "source": [
    "voc.get_sentence(preprocess(df['RandomFifthSentenceQuiz1'][0]))  "
   ]
  },
  {
   "cell_type": "code",
   "execution_count": 8,
   "metadata": {},
   "outputs": [],
   "source": [
    "class LastSentenceDataset(Dataset):\n",
    "    '''currently implements no context model. will add in last sentence later'''\n",
    "    def __init__(self,file='story_cloze_data/cloze_test_val__spring2016 - cloze_test_ALL_val.csv',vocab=None):\n",
    "\n",
    "        super().__init__()\n",
    "        \n",
    "        df, created_vocab = load_data(file)\n",
    "        \n",
    "        if vocab:\n",
    "            self.vocab = vocab\n",
    "        else:\n",
    "            self.vocab = created_vocab\n",
    "        self.df = df\n",
    "      \n",
    "        \n",
    "        self.dir_st = 'data/skip-thoughts'\n",
    "        self.biskip = BiSkip(self.dir_st, self.vocab.convert_to_list())\n",
    "        \n",
    "        self.uniskip = UniSkip(self.dir_st, self.vocab.convert_to_list())\n",
    "        \n",
    "       \n",
    "        self.data = self.make_data()\n",
    "        \n",
    "        \n",
    "    def __getitem__(self, idx):\n",
    "        \"\"\"\n",
    "        Args:\n",
    "            idx\n",
    "        Returns: skip thought embedding of ending and 0/1 if it is the right ending \n",
    "\n",
    "        \"\"\"\n",
    "        return self.data[idx]\n",
    "\n",
    "    def __len__(self):\n",
    "        \"\"\"\n",
    "        Returns len of the dataset\n",
    "        \"\"\"\n",
    "        return len(self.data)\n",
    "       \n",
    "    def make_data(self):\n",
    "        data = []\n",
    "        total = self.df.index[:100]\n",
    "        print('skip thought encoding dataset')\n",
    "        for i in total:\n",
    "            #print(row['RandomFifthSentenceQuiz1'],row['RandomFifthSentenceQuiz2'])\n",
    "           \n",
    "            self.progress(i,len(total))\n",
    "            endings =  self.gen_embbeding(self.df.at[i,'RandomFifthSentenceQuiz1'], self.df.at[i,'RandomFifthSentenceQuiz2'])\n",
    "            if self.df.at[i,'AnswerRightEnding'] == 1:\n",
    "                data.append((endings[0],torch.tensor([1])))\n",
    "                data.append((endings[1],torch.tensor([0])))\n",
    "            else:\n",
    "                data.append((endings[0],torch.tensor([0])))\n",
    "                data.append((endings[1],torch.tensor([1])))\n",
    "        print(f'\\n{self.vocab.unk_ratio()} ids generated were replaced with <UNK>')\n",
    "        return data\n",
    "    \n",
    "\n",
    "    def zero_pad(self,l,n):\n",
    "        l = (l + n * [0])[:n]\n",
    "        return l\n",
    "    \n",
    "    def pad_input(self,a,b):\n",
    "        ed = sorted([a,b],key=len)\n",
    "        longer = ed[1]\n",
    "        shorter = ed[0]\n",
    "        padded = self.zero_pad( shorter,len(longer))\n",
    "        if shorter == a:\n",
    "            return padded,b\n",
    "        else: return a,padded\n",
    "        \n",
    "    def gen_embbeding(self,sent1,sent2):\n",
    "        sent1 = preprocess(sent1)\n",
    "        sent2 = preprocess(sent2)\n",
    "        #remove random n token that is in one sentence\n",
    "        if 'n' in sent2:\n",
    "            sent2.remove('n')\n",
    "        encoded_end1 = self.vocab.get_sentence(sent1)\n",
    "        encoded_end2 = self.vocab.get_sentence(sent2)\n",
    "        a,b = self.pad_input(encoded_end1,encoded_end2)\n",
    "        \n",
    "        batch = torch.LongTensor([a,b]) \n",
    "        top_half = self.uniskip(batch)\n",
    "        bottom_half = self.biskip(batch)\n",
    "        combine_skip = torch.cat([top_half,bottom_half],dim=1) \n",
    "        return combine_skip\n",
    "    \n",
    "    def progress(self,count, total, status=''):\n",
    "        bar_len = 60\n",
    "        filled_len = int(round(bar_len * count / float(total)))\n",
    "\n",
    "        percents = round(100.0 * count / float(total), 1)\n",
    "        bar = '=' * filled_len + '-' * (bar_len - filled_len)\n",
    "\n",
    "        sys.stdout.write('[%s] %s%s ...%s\\r' % (bar, percents, '%', status))\n",
    "        sys.stdout.flush()\n"
   ]
  },
  {
   "cell_type": "code",
   "execution_count": null,
   "metadata": {},
   "outputs": [],
   "source": []
  },
  {
   "cell_type": "code",
   "execution_count": 11,
   "metadata": {},
   "outputs": [],
   "source": [
    "import torch.nn as nn\n",
    "import torch.nn.functional as F\n",
    "\n",
    "class Net(nn.Module):\n",
    "    def __init__(self):\n",
    "        super(Net, self).__init__()\n",
    "        self.hd1 = nn.Linear(4800, 2400)\n",
    "        self.hd2 = nn.Linear(2400, 1200)\n",
    "        self.hd3 = nn.Linear(1200, 600)\n",
    "        self.output = nn.Linear(600, 2)\n",
    "\n",
    "    def forward(self, x):\n",
    "        x = F.relu(self.hd1(x))\n",
    "        x = F.relu(self.hd2(x))\n",
    "        x = F.relu(self.hd3(x))\n",
    "        x = self.output(x)\n",
    "        print('output',x)\n",
    "        return x"
   ]
  },
  {
   "cell_type": "code",
   "execution_count": null,
   "metadata": {},
   "outputs": [],
   "source": [
    "    val_data_set= LastSentenceDataset()\n",
    "    print('train 1',val_data_set[0])\n",
    "\n",
    "    net = Net()\n",
    "    #exit beacuse the training loop is broken\n",
    "   \n",
    "\n",
    "    criterion = torch.nn.CrossEntropyLoss()\n",
    "    optimizer = optim.SGD(net.parameters(), lr=0.001, momentum=0.9)\n",
    "    \n",
    "    running_loss = 0.0\n",
    "    for i, data in enumerate(val_data_set, 0):\n",
    "       # get the inputs\n",
    "        inputs, labels = data\n",
    "        print(inputs,labels)\n",
    "\n",
    "        # zero the parameter gradients\n",
    "        optimizer.zero_grad()\n",
    "\n",
    "        outputs = net(inputs)\n",
    "           \n",
    "        print('out',outputs,labels)\n",
    "        #TODO Fix this \n",
    "        # posible solution https://github.com/pytorch/pytorch/issues/5554\n",
    "        loss = criterion(outputs, labels)\n",
    "        loss.backward()\n",
    "        optimizer.step()\n",
    "\n",
    "        # print statistics\n",
    "        running_loss += loss.item()\n",
    "        if i % 2000 == 1999:    # print every 2000 mini-batches\n",
    "            print('[%d, %5d] loss: %.3f' %\n",
    "                (epoch + 1, i + 1, running_loss / 2000))\n",
    "            running_loss = 0.0\n",
    "\n",
    "        print('Finished Training')\n"
   ]
  },
  {
   "cell_type": "code",
   "execution_count": null,
   "metadata": {},
   "outputs": [],
   "source": []
  },
  {
   "cell_type": "code",
   "execution_count": null,
   "metadata": {},
   "outputs": [],
   "source": []
  },
  {
   "cell_type": "code",
   "execution_count": null,
   "metadata": {},
   "outputs": [],
   "source": []
  }
 ],
 "metadata": {
  "kernelspec": {
   "display_name": "Python 3",
   "language": "python",
   "name": "python3"
  },
  "language_info": {
   "codemirror_mode": {
    "name": "ipython",
    "version": 3
   },
   "file_extension": ".py",
   "mimetype": "text/x-python",
   "name": "python",
   "nbconvert_exporter": "python",
   "pygments_lexer": "ipython3",
   "version": "3.6.4"
  }
 },
 "nbformat": 4,
 "nbformat_minor": 2
}
